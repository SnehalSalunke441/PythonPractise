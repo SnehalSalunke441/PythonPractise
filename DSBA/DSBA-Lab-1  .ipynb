{
 "cells": [
  {
   "cell_type": "markdown",
   "metadata": {},
   "source": [
    "## Reference: Variable Types.pdf"
   ]
  },
  {
   "cell_type": "markdown",
   "metadata": {},
   "source": [
    "### (1) Assigning Values to variables:"
   ]
  },
  {
   "cell_type": "code",
   "execution_count": 3,
   "metadata": {},
   "outputs": [
    {
     "name": "stdout",
     "output_type": "stream",
     "text": [
      "100\n",
      "1000.0\n",
      "Snehal\n"
     ]
    }
   ],
   "source": [
    "counter = 100\n",
    "miles = 1000.0\n",
    "name = \"Snehal\"\n",
    "\n",
    "print(counter)\n",
    "print(miles)\n",
    "print(name)"
   ]
  },
  {
   "cell_type": "code",
   "execution_count": 4,
   "metadata": {},
   "outputs": [
    {
     "name": "stdout",
     "output_type": "stream",
     "text": [
      "100\n",
      "100\n",
      "100\n",
      "(1, 'Snehal', 'Salunke')\n",
      "(1, 'Snehal', 'Salunke')\n",
      "(1, 'Snehal', 'Salunke')\n"
     ]
    }
   ],
   "source": [
    "# Multiple Assignment\n",
    "\n",
    "a=b=c=100\n",
    "print(a)\n",
    "print(b)\n",
    "print(c)\n",
    "\n",
    "x=y=z=1, \"Snehal\", \"Salunke\"\n",
    "print(x)\n",
    "print(y)\n",
    "print(z)"
   ]
  },
  {
   "cell_type": "markdown",
   "metadata": {},
   "source": [
    "## Standard Data Types:\n",
    "### (1) Number:"
   ]
  },
  {
   "cell_type": "code",
   "execution_count": 5,
   "metadata": {},
   "outputs": [
    {
     "name": "stdout",
     "output_type": "stream",
     "text": [
      "10\n",
      "20\n"
     ]
    },
    {
     "ename": "NameError",
     "evalue": "name 'var2' is not defined",
     "output_type": "error",
     "traceback": [
      "\u001b[1;31m---------------------------------------------------------------------------\u001b[0m",
      "\u001b[1;31mNameError\u001b[0m                                 Traceback (most recent call last)",
      "\u001b[1;32m<ipython-input-5-363c088731e7>\u001b[0m in \u001b[0;36m<module>\u001b[1;34m\u001b[0m\n\u001b[0;32m      5\u001b[0m \u001b[1;33m\u001b[0m\u001b[0m\n\u001b[0;32m      6\u001b[0m \u001b[1;32mdel\u001b[0m \u001b[0mvar2\u001b[0m\u001b[1;33m\u001b[0m\u001b[1;33m\u001b[0m\u001b[0m\n\u001b[1;32m----> 7\u001b[1;33m \u001b[0mprint\u001b[0m\u001b[1;33m(\u001b[0m\u001b[0mvar2\u001b[0m\u001b[1;33m)\u001b[0m\u001b[1;33m\u001b[0m\u001b[1;33m\u001b[0m\u001b[0m\n\u001b[0m",
      "\u001b[1;31mNameError\u001b[0m: name 'var2' is not defined"
     ]
    }
   ],
   "source": [
    "var1 = 10\n",
    "var2 = 20\n",
    "print(var1)\n",
    "print(var2)\n",
    "\n",
    "del var2\n",
    "print(var2)"
   ]
  },
  {
   "cell_type": "markdown",
   "metadata": {},
   "source": [
    "### (2) String"
   ]
  },
  {
   "cell_type": "code",
   "execution_count": 8,
   "metadata": {},
   "outputs": [
    {
     "name": "stdout",
     "output_type": "stream",
     "text": [
      "Snehal Dattatray Salunke \n",
      "a\n",
      "Dattatray\n",
      "Salunke \n",
      "Snehal Dattatray Salunke Snehal Dattatray Salunke Snehal Dattatray Salunke \n",
      "Snehal Dattatray Salunke is a Student. \n"
     ]
    }
   ],
   "source": [
    "str = \"Snehal Dattatray Salunke \"\n",
    "\n",
    "print(str)\n",
    "print(str[4])\n",
    "print(str[7:16])\n",
    "print(str[17:])\n",
    "print(str*3)\n",
    "print(str + \"is a Student. \")"
   ]
  },
  {
   "cell_type": "markdown",
   "metadata": {},
   "source": [
    "### (3) List"
   ]
  },
  {
   "cell_type": "code",
   "execution_count": 10,
   "metadata": {},
   "outputs": [
    {
     "name": "stdout",
     "output_type": "stream",
     "text": [
      "[1, 'Snehal', 'CST', '9.5']\n",
      "['Sunday', [2, 5, 8], 50, 20.5]\n",
      "['p', 'r', 'o', 'b', 'e']\n",
      "r\n",
      "e\n",
      "e\n",
      "8\n"
     ]
    }
   ],
   "source": [
    "list1 = [1, \"Snehal\", \"CST\", \"9.5\"]\n",
    "list2 = [\"Sunday\", [2, 5, 8], 50, 20.5]\n",
    "list3 = ['p', 'r', 'o', 'b', 'e']\n",
    "\n",
    "print(list1)\n",
    "print(list2)\n",
    "print(list3)\n",
    "\n",
    "print(list3[1])\n",
    "print(list3[4])\n",
    "print(list3[-1])\n",
    "\n",
    "print(list2[1][2])"
   ]
  },
  {
   "cell_type": "code",
   "execution_count": 11,
   "metadata": {},
   "outputs": [
    {
     "name": "stdout",
     "output_type": "stream",
     "text": [
      "['o', 'g', 'r']\n",
      "['p', 'r', 'o', 'g']\n",
      "['a', 'm', 'i', 'z']\n",
      "['p', 'r', 'o', 'g', 'r', 'a', 'm', 'i', 'z']\n"
     ]
    }
   ],
   "source": [
    "mylist = ['p','r', 'o', 'g', 'r', 'a', 'm', 'i', 'z']\n",
    "\n",
    "print(mylist[2:5])\n",
    "print(mylist[ : -5])\n",
    "print(mylist[5 : ])\n",
    "print(mylist[:])"
   ]
  },
  {
   "cell_type": "code",
   "execution_count": 12,
   "metadata": {},
   "outputs": [
    {
     "name": "stdout",
     "output_type": "stream",
     "text": [
      "[1, 4, 6, 8]\n",
      "[1, 3, 5, 7]\n",
      "[1, 3, 5, 7, 9, 11, 13, 15, 17]\n"
     ]
    }
   ],
   "source": [
    "odd = [2,4,6,8]   # Intentionally written wrong\n",
    "\n",
    "odd[0] = 1  #Change value at index 0\n",
    "print(odd)\n",
    "\n",
    "odd[1:4] = [3,5,7]\n",
    "print(odd)\n",
    "\n",
    "odd.append(9)\n",
    "odd.append(11)\n",
    "odd.extend([13,15,17])\n",
    "print(odd)"
   ]
  },
  {
   "cell_type": "code",
   "execution_count": 13,
   "metadata": {},
   "outputs": [
    {
     "name": "stdout",
     "output_type": "stream",
     "text": [
      "[1, 3, 5, 9, 11, 13, 15, 17]\n",
      "[1, 3, 5, 9, 11, 17]\n"
     ]
    }
   ],
   "source": [
    "# Delete element from list\n",
    "del odd[3]\n",
    "print(odd)\n",
    "\n",
    "del odd[5:7]\n",
    "print(odd)"
   ]
  },
  {
   "cell_type": "code",
   "execution_count": 14,
   "metadata": {},
   "outputs": [
    {
     "name": "stdout",
     "output_type": "stream",
     "text": [
      "['English', 'Marathi', 'Hindi', 'German']\n",
      "['English', 'Marathi', 'Bengali', 'Hindi', 'Urdu', 'German']\n"
     ]
    }
   ],
   "source": [
    "# Append: at last of list\n",
    "\n",
    "list4 = [\"English\", \"Marathi\", \"Hindi\"]\n",
    "list4.append(\"German\")\n",
    "print(list4)\n",
    "\n",
    "# Insert at given index\n",
    "list4.insert(2, \"Bengali\")\n",
    "list4.insert(4, \"Urdu\")\n",
    "print(list4)"
   ]
  },
  {
   "cell_type": "code",
   "execution_count": 28,
   "metadata": {
    "scrolled": false
   },
   "outputs": [
    {
     "name": "stdout",
     "output_type": "stream",
     "text": [
      "[21, 10, 34, 26, 10, 55, 33, 1, 2, 4, 7, 9, 10, 32]\n",
      "254\n",
      "3\n",
      "14\n",
      "1\n",
      "55\n"
     ]
    }
   ],
   "source": [
    "# Extend, sum, count, len, min, max\n",
    "\n",
    "l1 = [1, 2, 4, 7, 9, 10, 32]\n",
    "l2 = [21, 10, 34, 26, 10, 55, 33]\n",
    "l2.extend(l1)\n",
    "\n",
    "print(l2)\n",
    "\n",
    "print(sum(l2))\n",
    "print(l2.count(10))\n",
    "print(len(l2))\n",
    "print(min(l2))\n",
    "print(max(l2))"
   ]
  },
  {
   "cell_type": "code",
   "execution_count": 29,
   "metadata": {},
   "outputs": [
    {
     "name": "stdout",
     "output_type": "stream",
     "text": [
      "[55, 34, 33, 32, 26, 21, 10, 10, 10, 9, 7, 4, 2, 1]\n",
      "[1, 2, 4, 7, 9, 10, 10, 10, 21, 26, 32, 33, 34, 55]\n",
      "55\n",
      "9\n"
     ]
    }
   ],
   "source": [
    "# sorted, reverse, pop, del, remove\n",
    "\n",
    "l2.sort(reverse = True)\n",
    "print(l2)\n",
    "\n",
    "l2.sort()\n",
    "print(l2)\n",
    "\n",
    "print(l2.pop())    #removes last element\n",
    "print(l2.pop(4))   #removes element at index 4\n",
    "\n",
    "del l2[10]         #deletes element 10"
   ]
  },
  {
   "cell_type": "code",
   "execution_count": 30,
   "metadata": {},
   "outputs": [
    {
     "name": "stdout",
     "output_type": "stream",
     "text": [
      "[1, 2, 4, 7, 10, 10, 10, 21, 26, 32, 34]\n"
     ]
    }
   ],
   "source": [
    "print(l2)"
   ]
  },
  {
   "cell_type": "code",
   "execution_count": 31,
   "metadata": {},
   "outputs": [
    {
     "name": "stdout",
     "output_type": "stream",
     "text": [
      "None\n"
     ]
    }
   ],
   "source": [
    "print(l2.remove(10)) #deletes element 10"
   ]
  },
  {
   "cell_type": "code",
   "execution_count": 32,
   "metadata": {},
   "outputs": [
    {
     "name": "stdout",
     "output_type": "stream",
     "text": [
      "[1, 2, 4, 7, 10, 10, 21, 26, 32, 34]\n"
     ]
    }
   ],
   "source": [
    "print(l2)"
   ]
  },
  {
   "cell_type": "markdown",
   "metadata": {},
   "source": [
    "### (4) Tuple"
   ]
  },
  {
   "cell_type": "code",
   "execution_count": 33,
   "metadata": {},
   "outputs": [
    {
     "name": "stdout",
     "output_type": "stream",
     "text": [
      "(1, 'Snehal', 'Salunke')\n",
      "(1, 2, 4, 7, 10, 10, 21, 26, 32, 34)\n",
      "(1, 'Snehal', 'Salunke', 1, 2, 4, 7, 10, 10, 21, 26, 32, 34)\n"
     ]
    }
   ],
   "source": [
    "tup1 =(1, \"Snehal\", \"Salunke\")\n",
    "\n",
    "tup2 = tuple(l2)\n",
    "\n",
    "tup3 = tup1 + tup2\n",
    "\n",
    "print(tup1)\n",
    "print(tup2)\n",
    "print(tup3)"
   ]
  },
  {
   "cell_type": "code",
   "execution_count": 34,
   "metadata": {},
   "outputs": [
    {
     "name": "stdout",
     "output_type": "stream",
     "text": [
      "('O', 'O', 'M', 'I', 'N', 'G')\n",
      "('G', 'N', 'I', 'M', 'O', 'O', 'Z')\n",
      "('O', 'M', 'I')\n"
     ]
    }
   ],
   "source": [
    "tup = tuple(\"ZOOMING\")\n",
    "\n",
    "print(tup[1:])\n",
    "print(tup[:: -1])\n",
    "print(tup[2:5])"
   ]
  },
  {
   "cell_type": "code",
   "execution_count": 35,
   "metadata": {},
   "outputs": [
    {
     "ename": "NameError",
     "evalue": "name 'tup' is not defined",
     "output_type": "error",
     "traceback": [
      "\u001b[1;31m---------------------------------------------------------------------------\u001b[0m",
      "\u001b[1;31mNameError\u001b[0m                                 Traceback (most recent call last)",
      "\u001b[1;32m<ipython-input-35-bcdbccb5f0f8>\u001b[0m in \u001b[0;36m<module>\u001b[1;34m\u001b[0m\n\u001b[0;32m      1\u001b[0m \u001b[1;32mdel\u001b[0m \u001b[0mtup\u001b[0m\u001b[1;33m\u001b[0m\u001b[1;33m\u001b[0m\u001b[0m\n\u001b[1;32m----> 2\u001b[1;33m \u001b[0mprint\u001b[0m\u001b[1;33m(\u001b[0m\u001b[0mtup\u001b[0m\u001b[1;33m)\u001b[0m\u001b[1;33m\u001b[0m\u001b[1;33m\u001b[0m\u001b[0m\n\u001b[0m",
      "\u001b[1;31mNameError\u001b[0m: name 'tup' is not defined"
     ]
    }
   ],
   "source": [
    "del tup\n",
    "print(tup)"
   ]
  },
  {
   "cell_type": "markdown",
   "metadata": {},
   "source": [
    "### (5) Dictionary"
   ]
  },
  {
   "cell_type": "code",
   "execution_count": 42,
   "metadata": {},
   "outputs": [
    {
     "name": "stdout",
     "output_type": "stream",
     "text": [
      "{1: 'Snehal', 2: 'Vaishnavi', 3: 'Sakshi'}\n",
      "{'Name': 'Zooming', 1: [1, 2, 3]}\n",
      "{1: 'Zooming', 2: 'For', 3: 'Zooming'}\n",
      "{1: 'Zooming', 2: 'For'}\n"
     ]
    }
   ],
   "source": [
    "dict1 = {1: 'Snehal', 2: 'Vaishnavi', 3:'Sakshi'}\n",
    "d2 = {'Name': 'Zooming', 1:[1, 2, 3]}\n",
    "d3 = dict({1:\"Zooming\", 2:\"For\", 3:\"Zooming\"})\n",
    "d4 = dict([(1,\"Zooming\"), (2, \"For\")])\n",
    "\n",
    "print(dict1)\n",
    "print(d2)\n",
    "print(d3)\n",
    "print(d4)"
   ]
  },
  {
   "cell_type": "code",
   "execution_count": 43,
   "metadata": {},
   "outputs": [
    {
     "name": "stdout",
     "output_type": "stream",
     "text": [
      "{1: 'Snehal', 2: 'Vaishnavi', 3: 'Sakshi', 4: 'Srushti', 5: 'Mehwash'}\n",
      "Zooming\n",
      "Vaishnavi\n",
      "Mehwash\n"
     ]
    }
   ],
   "source": [
    "dict1[4]=\"Srushti\"\n",
    "dict1[5] = \"Mehwash\"\n",
    "print(dict1)\n",
    "\n",
    "dict1['Value set'] = 2,3,4\n",
    "\n",
    "\n",
    "# Accessing Values\n",
    "print(d2['Name'])\n",
    "print(dict1[2])\n",
    "print(dict1.get(5))"
   ]
  },
  {
   "cell_type": "code",
   "execution_count": 44,
   "metadata": {},
   "outputs": [
    {
     "name": "stdout",
     "output_type": "stream",
     "text": [
      "{1: 'Snehal', 2: 'Vaishnavi', 4: 'Srushti', 'Value set': (2, 3, 4)}\n",
      "{}\n"
     ]
    }
   ],
   "source": [
    "# Deleting values\n",
    "\n",
    "del dict1[5]\n",
    "dict1.pop(3)\n",
    "\n",
    "print(dict1)\n",
    "\n",
    "dict1.clear()\n",
    "print(dict1)"
   ]
  },
  {
   "cell_type": "markdown",
   "metadata": {},
   "source": [
    "### (6) Functions"
   ]
  },
  {
   "cell_type": "code",
   "execution_count": 46,
   "metadata": {},
   "outputs": [
    {
     "name": "stdout",
     "output_type": "stream",
     "text": [
      "Lets start\n",
      "***\n",
      "Hello Everyone\n",
      "Bye, See you again\n",
      "lets go again\n",
      "***\n",
      "Hello Everyone\n",
      "Bye, See you again\n",
      "The End\n"
     ]
    }
   ],
   "source": [
    "def thing():\n",
    "    print(\"***\")\n",
    "    print(\"Hello Everyone\")\n",
    "    print(\"Bye, See you again\")\n",
    "    \n",
    "print(\"Lets start\")\n",
    "thing()\n",
    "print(\"lets go again\")\n",
    "thing()\n",
    "print(\"The End\")"
   ]
  },
  {
   "cell_type": "code",
   "execution_count": null,
   "metadata": {},
   "outputs": [],
   "source": []
  }
 ],
 "metadata": {
  "kernelspec": {
   "display_name": "Python 3",
   "language": "python",
   "name": "python3"
  },
  "language_info": {
   "codemirror_mode": {
    "name": "ipython",
    "version": 3
   },
   "file_extension": ".py",
   "mimetype": "text/x-python",
   "name": "python",
   "nbconvert_exporter": "python",
   "pygments_lexer": "ipython3",
   "version": "3.8.5"
  }
 },
 "nbformat": 4,
 "nbformat_minor": 4
}
