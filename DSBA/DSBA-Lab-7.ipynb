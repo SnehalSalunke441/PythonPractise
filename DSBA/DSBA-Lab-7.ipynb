{
 "cells": [
  {
   "cell_type": "markdown",
   "metadata": {},
   "source": [
    "## Probability \n",
    "Date: 02/12/2021"
   ]
  },
  {
   "cell_type": "code",
   "execution_count": 2,
   "metadata": {},
   "outputs": [],
   "source": [
    "# import packages\n",
    "import pandas as pd\n",
    "import matplotlib.pyplot as plt\n",
    "import numpy as np"
   ]
  },
  {
   "cell_type": "code",
   "execution_count": 3,
   "metadata": {},
   "outputs": [
    {
     "data": {
      "text/html": [
       "<div>\n",
       "<style scoped>\n",
       "    .dataframe tbody tr th:only-of-type {\n",
       "        vertical-align: middle;\n",
       "    }\n",
       "\n",
       "    .dataframe tbody tr th {\n",
       "        vertical-align: top;\n",
       "    }\n",
       "\n",
       "    .dataframe thead th {\n",
       "        text-align: right;\n",
       "    }\n",
       "</style>\n",
       "<table border=\"1\" class=\"dataframe\">\n",
       "  <thead>\n",
       "    <tr style=\"text-align: right;\">\n",
       "      <th></th>\n",
       "      <th>Loan_ID</th>\n",
       "      <th>Gender</th>\n",
       "      <th>Married</th>\n",
       "      <th>Dependents</th>\n",
       "      <th>Education</th>\n",
       "      <th>Self_Employed</th>\n",
       "      <th>ApplicantIncome</th>\n",
       "      <th>CoapplicantIncome</th>\n",
       "      <th>LoanAmount</th>\n",
       "      <th>Loan_Amount_Term</th>\n",
       "      <th>Credit_History</th>\n",
       "      <th>Property_Area</th>\n",
       "      <th>Loan_Status</th>\n",
       "    </tr>\n",
       "  </thead>\n",
       "  <tbody>\n",
       "    <tr>\n",
       "      <th>0</th>\n",
       "      <td>LP001002</td>\n",
       "      <td>Male</td>\n",
       "      <td>No</td>\n",
       "      <td>0</td>\n",
       "      <td>Graduate</td>\n",
       "      <td>No</td>\n",
       "      <td>5849</td>\n",
       "      <td>0.0</td>\n",
       "      <td>NaN</td>\n",
       "      <td>360.0</td>\n",
       "      <td>1.0</td>\n",
       "      <td>Urban</td>\n",
       "      <td>Y</td>\n",
       "    </tr>\n",
       "    <tr>\n",
       "      <th>1</th>\n",
       "      <td>LP001003</td>\n",
       "      <td>Male</td>\n",
       "      <td>Yes</td>\n",
       "      <td>1</td>\n",
       "      <td>Graduate</td>\n",
       "      <td>No</td>\n",
       "      <td>4583</td>\n",
       "      <td>1508.0</td>\n",
       "      <td>128.0</td>\n",
       "      <td>360.0</td>\n",
       "      <td>1.0</td>\n",
       "      <td>Rural</td>\n",
       "      <td>N</td>\n",
       "    </tr>\n",
       "    <tr>\n",
       "      <th>2</th>\n",
       "      <td>LP001005</td>\n",
       "      <td>Male</td>\n",
       "      <td>Yes</td>\n",
       "      <td>0</td>\n",
       "      <td>Graduate</td>\n",
       "      <td>Yes</td>\n",
       "      <td>3000</td>\n",
       "      <td>0.0</td>\n",
       "      <td>66.0</td>\n",
       "      <td>360.0</td>\n",
       "      <td>1.0</td>\n",
       "      <td>Urban</td>\n",
       "      <td>Y</td>\n",
       "    </tr>\n",
       "    <tr>\n",
       "      <th>3</th>\n",
       "      <td>LP001006</td>\n",
       "      <td>Male</td>\n",
       "      <td>Yes</td>\n",
       "      <td>0</td>\n",
       "      <td>Not Graduate</td>\n",
       "      <td>No</td>\n",
       "      <td>2583</td>\n",
       "      <td>2358.0</td>\n",
       "      <td>120.0</td>\n",
       "      <td>360.0</td>\n",
       "      <td>1.0</td>\n",
       "      <td>Urban</td>\n",
       "      <td>Y</td>\n",
       "    </tr>\n",
       "    <tr>\n",
       "      <th>4</th>\n",
       "      <td>LP001008</td>\n",
       "      <td>Male</td>\n",
       "      <td>No</td>\n",
       "      <td>0</td>\n",
       "      <td>Graduate</td>\n",
       "      <td>No</td>\n",
       "      <td>6000</td>\n",
       "      <td>0.0</td>\n",
       "      <td>141.0</td>\n",
       "      <td>360.0</td>\n",
       "      <td>1.0</td>\n",
       "      <td>Urban</td>\n",
       "      <td>Y</td>\n",
       "    </tr>\n",
       "  </tbody>\n",
       "</table>\n",
       "</div>"
      ],
      "text/plain": [
       "    Loan_ID Gender Married Dependents     Education Self_Employed  \\\n",
       "0  LP001002   Male      No          0      Graduate            No   \n",
       "1  LP001003   Male     Yes          1      Graduate            No   \n",
       "2  LP001005   Male     Yes          0      Graduate           Yes   \n",
       "3  LP001006   Male     Yes          0  Not Graduate            No   \n",
       "4  LP001008   Male      No          0      Graduate            No   \n",
       "\n",
       "   ApplicantIncome  CoapplicantIncome  LoanAmount  Loan_Amount_Term  \\\n",
       "0             5849                0.0         NaN             360.0   \n",
       "1             4583             1508.0       128.0             360.0   \n",
       "2             3000                0.0        66.0             360.0   \n",
       "3             2583             2358.0       120.0             360.0   \n",
       "4             6000                0.0       141.0             360.0   \n",
       "\n",
       "   Credit_History Property_Area Loan_Status  \n",
       "0             1.0         Urban           Y  \n",
       "1             1.0         Rural           N  \n",
       "2             1.0         Urban           Y  \n",
       "3             1.0         Urban           Y  \n",
       "4             1.0         Urban           Y  "
      ]
     },
     "execution_count": 3,
     "metadata": {},
     "output_type": "execute_result"
    }
   ],
   "source": [
    "df = pd.read_csv(\"Loan_prediction.csv\")\n",
    "df.head()"
   ]
  },
  {
   "cell_type": "markdown",
   "metadata": {},
   "source": [
    "### Will your Loan be approved?"
   ]
  },
  {
   "cell_type": "code",
   "execution_count": 4,
   "metadata": {},
   "outputs": [
    {
     "name": "stdout",
     "output_type": "stream",
     "text": [
      "Total Number of Applications:  Y    422\n",
      "N    192\n",
      "Name: Loan_Status, dtype: int64\n",
      "Length of df:  614\n",
      "Total number of approved Applications:  422\n",
      "Number of loan applications rejected:  192\n",
      "Probability of loan application getting approved:  0.6872964169381107\n"
     ]
    }
   ],
   "source": [
    "# Display values per class of 'Loan_Status'\n",
    "total1 =df.Loan_Status.value_counts()\n",
    "print('Total Number of Applications: ', total1)\n",
    "\n",
    "# Total number of rows\n",
    "total = len(df)\n",
    "print('Length of df: ', total)\n",
    "\n",
    "# Number of Loan applications accepted\n",
    "yes = len(df[df['Loan_Status'] == 'Y'])\n",
    "print('Total number of approved Applications: ', yes)\n",
    "\n",
    "# Number of Loan applications rejected\n",
    "print('Number of loan applications rejected: ', (total-yes))\n",
    "\n",
    "# Probability of Loan getting accepted\n",
    "p_of_A = yes/total\n",
    "\n",
    "# Display probability\n",
    "print('Probability of loan application getting approved: ', p_of_A)"
   ]
  },
  {
   "cell_type": "markdown",
   "metadata": {},
   "source": [
    "### Which area is the house located in?"
   ]
  },
  {
   "cell_type": "code",
   "execution_count": 6,
   "metadata": {},
   "outputs": [
    {
     "name": "stdout",
     "output_type": "stream",
     "text": [
      "Probability of house being in urban:  0.3289902280130293\n",
      "Probability of house being in semiurban:  0.3794788273615635\n",
      "p_of_us =  0.7084690553745928\n"
     ]
    }
   ],
   "source": [
    "# total number of records\n",
    "total = len(df)\n",
    "\n",
    "# probability of urban houses\n",
    "sum_u = df['Property_Area'].value_counts().Urban\n",
    "p_of_urban = sum_u/total\n",
    "print('Probability of house being in urban: ', p_of_urban)\n",
    "\n",
    "# probability of Semiurban houses\n",
    "sum_s = df['Property_Area'].value_counts().Semiurban\n",
    "p_of_semiurban = sum_s/total\n",
    "print('Probability of house being in semiurban: ', p_of_semiurban)\n",
    "\n",
    "# Display probability\n",
    "p_of_us = p_of_urban + p_of_semiurban\n",
    "print('p_of_us = ', p_of_us)"
   ]
  },
  {
   "cell_type": "markdown",
   "metadata": {},
   "source": [
    "### Does gender affect the probability of getting a loan?"
   ]
  },
  {
   "cell_type": "code",
   "execution_count": 8,
   "metadata": {},
   "outputs": [
    {
     "name": "stdout",
     "output_type": "stream",
     "text": [
      "col_0     N    Y\n",
      "row_0           \n",
      "Female   37   75\n",
      "Male    150  339\n",
      "Total male applicants:  489\n",
      "Total Female applicants:  112\n",
      "Total male applicants whose loan applications were accepted:  339\n",
      "Total female applicants whose loan applications were accepted:  75\n",
      "Probability of loan approval when applicant is male:  0.6932515337423313\n",
      "Probability of loan approval when applicant is Female:  0.6696428571428571\n"
     ]
    }
   ],
   "source": [
    "# Convert to NumPy arrays\n",
    "g=np.array(df['Gender'])\n",
    "l=np.array(df['Loan_Status'])\n",
    "\n",
    "# Creating Pivot table\n",
    "table = pd.crosstab(g,l)\n",
    "print(table)\n",
    "\n",
    "# Total male applicants\n",
    "total_male =df['Gender'].value_counts().Male\n",
    "#(g.tolist().count('Male'))\n",
    "print('Total male applicants: ',total_male)\n",
    "\n",
    "# Total female applicants\n",
    "total_female =df['Gender'].value_counts().Female\n",
    "print('Total Female applicants: ',total_female)\n",
    "\n",
    "# Total male applicants whose loan applications were accepted\n",
    "df1 = df[df['Loan_Status']=='Y']\n",
    "t_accm_loan = df1['Gender'].value_counts().Male\n",
    "print('Total male applicants whose loan applications were accepted: ', t_accm_loan)\n",
    "\n",
    "# Total female applicants whose loan applications were accepted\n",
    "df1 = df[df['Loan_Status']=='Y']\n",
    "t_accf_loan = df1['Gender'].value_counts().Female\n",
    "print('Total female applicants whose loan applications were accepted: ', t_accf_loan)\n",
    "\n",
    "# Probability of loan approval when applicant is male\n",
    "p_of_ymale = t_accm_loan/total_male\n",
    "print('Probability of loan approval when applicant is male: ', p_of_ymale)\n",
    "\n",
    "# Probability of loan approval when applicant is Female\n",
    "p_of_yfemale = t_accf_loan/total_female\n",
    "print('Probability of loan approval when applicant is Female: ', p_of_yfemale)"
   ]
  }
 ],
 "metadata": {
  "kernelspec": {
   "display_name": "Python 3",
   "language": "python",
   "name": "python3"
  },
  "language_info": {
   "codemirror_mode": {
    "name": "ipython",
    "version": 3
   },
   "file_extension": ".py",
   "mimetype": "text/x-python",
   "name": "python",
   "nbconvert_exporter": "python",
   "pygments_lexer": "ipython3",
   "version": "3.8.5"
  }
 },
 "nbformat": 4,
 "nbformat_minor": 4
}
